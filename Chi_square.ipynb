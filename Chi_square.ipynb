{
  "nbformat": 4,
  "nbformat_minor": 0,
  "metadata": {
    "colab": {
      "name": "Chi_square.ipynb",
      "provenance": []
    },
    "kernelspec": {
      "name": "python3",
      "display_name": "Python 3"
    },
    "language_info": {
      "name": "python"
    }
  },
  "cells": [
    {
      "cell_type": "markdown",
      "source": [
        "**Importing necessary libraries**"
      ],
      "metadata": {
        "id": "8HSEv8Pj0DNQ"
      }
    },
    {
      "cell_type": "code",
      "source": [
        "import numpy as np\n",
        "import matplotlib.pyplot as plt\n",
        "import pandas as pd"
      ],
      "metadata": {
        "id": "5GxjVbiP0U8-"
      },
      "execution_count": null,
      "outputs": []
    },
    {
      "cell_type": "markdown",
      "source": [
        " **Importing the datasets**"
      ],
      "metadata": {
        "id": "ohxblYmY0cxI"
      }
    },
    {
      "cell_type": "code",
      "source": [
        "data_train = pd.read_csv('train.csv')\n",
        "data_test = pd.read_csv('test.csv')\n",
        "X_train=data_train.iloc[:, :-1].values\n",
        "y_train=data_train.iloc[:, -1].values\n",
        "X_test1=data_test.iloc[:, : ].values\n",
        "X_test=data_test.iloc[:, : ].values"
      ],
      "metadata": {
        "id": "kDv08faW0rXL"
      },
      "execution_count": null,
      "outputs": []
    },
    {
      "cell_type": "markdown",
      "source": [
        "**Taking care of missing data**"
      ],
      "metadata": {
        "id": "0DLyl1hG2z_C"
      }
    },
    {
      "cell_type": "markdown",
      "source": [
        " *In the training data*"
      ],
      "metadata": {
        "id": "gHOTxCXB4VEW"
      }
    },
    {
      "cell_type": "code",
      "source": [
        "from sklearn.impute import SimpleImputer\n",
        "imputer = SimpleImputer(missing_values=np.nan, strategy='mean')\n",
        "imputer.fit(X_train[:, 0:7])\n",
        "X_train[:, 0:7] = imputer.transform(X_train[:, 0:7])"
      ],
      "metadata": {
        "id": "mqNoSO774jLu"
      },
      "execution_count": null,
      "outputs": []
    },
    {
      "cell_type": "markdown",
      "source": [
        "*In the test data* "
      ],
      "metadata": {
        "id": "wZ-y919558PD"
      }
    },
    {
      "cell_type": "code",
      "source": [
        "from sklearn.impute import SimpleImputer\n",
        "imputer = SimpleImputer(missing_values=np.nan, strategy='mean')\n",
        "imputer.fit(X_test1[:, 0:7])\n",
        "X_test1[:, 0:7] = imputer.transform(X_test1[:, 0:7])"
      ],
      "metadata": {
        "id": "Vwb-yJfF6HLd"
      },
      "execution_count": null,
      "outputs": []
    },
    {
      "cell_type": "markdown",
      "source": [
        "**Feature scaling**"
      ],
      "metadata": {
        "id": "K9dm0MEs9bRG"
      }
    },
    {
      "cell_type": "code",
      "source": [
        "from sklearn.preprocessing import StandardScaler\n",
        "sc = StandardScaler()\n",
        "X_train[:, :] = sc.fit_transform(X_train[:, :])\n",
        "X_test[:, :] = sc.transform(X_test1[:, :])"
      ],
      "metadata": {
        "id": "4q7KF2T19i-p"
      },
      "execution_count": null,
      "outputs": []
    },
    {
      "cell_type": "markdown",
      "source": [
        "**Training the Random Forest Classification model on the Training set**"
      ],
      "metadata": {
        "id": "ZE05U0x4-WNd"
      }
    },
    {
      "cell_type": "code",
      "source": [
        "\n",
        "from sklearn.ensemble import RandomForestClassifier\n",
        "classifier = RandomForestClassifier(n_estimators = 400, criterion = 'entropy', random_state = 0)\n",
        "classifier.fit(X_train, y_train)"
      ],
      "metadata": {
        "colab": {
          "base_uri": "https://localhost:8080/"
        },
        "id": "t5iaG0EC_UtG",
        "outputId": "a084ebfd-3627-493c-f81d-723b47d2cd12"
      },
      "execution_count": null,
      "outputs": [
        {
          "output_type": "execute_result",
          "data": {
            "text/plain": [
              "RandomForestClassifier(criterion='entropy', n_estimators=400, random_state=0)"
            ]
          },
          "metadata": {},
          "execution_count": 102
        }
      ]
    },
    {
      "cell_type": "markdown",
      "source": [
        "**Pridiction**"
      ],
      "metadata": {
        "id": "pNL0VzgC_nV5"
      }
    },
    {
      "cell_type": "code",
      "source": [
        "y_pred = classifier.predict(X_test)\n",
        "y_pred"
      ],
      "metadata": {
        "colab": {
          "base_uri": "https://localhost:8080/"
        },
        "id": "npDMNj68_uM6",
        "outputId": "30db5b2f-373c-46f3-fc71-fa3cc9c9847f"
      },
      "execution_count": null,
      "outputs": [
        {
          "output_type": "execute_result",
          "data": {
            "text/plain": [
              "array([0., 1., 1., 0., 0., 3., 0., 1., 0., 0., 1., 1., 0., 1., 3., 0., 0.,\n",
              "       0., 1., 0., 1., 0., 0., 1., 0., 0., 1., 2., 0., 0., 2., 1., 0., 0.,\n",
              "       1., 0., 3., 1., 1., 0., 0., 0., 0., 3., 0., 0., 1., 0., 0., 0., 0.,\n",
              "       0., 0., 0., 1., 0., 0., 0., 0., 0., 0., 0., 2., 0., 0., 0., 3., 1.,\n",
              "       0., 1., 0., 0., 0., 0., 1., 3., 0., 2., 0., 0., 0., 1., 1., 1., 1.,\n",
              "       0., 0., 2., 0., 0., 1., 1., 1., 2., 0., 1., 1., 0., 3., 1., 2., 0.,\n",
              "       1., 0., 0., 0., 0., 1., 0., 0., 0., 0., 1., 0., 1., 3., 1., 1., 0.,\n",
              "       3., 0., 0., 1., 1., 0., 0., 1., 0., 1., 0., 3., 1., 3., 1., 0., 0.,\n",
              "       0., 0., 2., 1., 0., 0., 0., 0., 1., 1., 0., 1., 2., 0., 0., 0., 0.,\n",
              "       0., 3., 0., 1., 0., 0., 0., 0., 0., 1., 0., 2., 3., 0., 0., 0., 0.,\n",
              "       0., 0., 0., 2., 0., 0., 0., 0., 0., 0., 1., 0., 1., 0., 1., 2., 1.,\n",
              "       1., 2., 0., 0., 0., 0., 1., 0., 1., 2., 0., 0., 1., 0., 1., 0., 0.,\n",
              "       1., 0., 1., 0., 3., 0., 0., 0., 1., 1., 1., 0., 0., 1., 0., 1., 0.,\n",
              "       0., 2., 1., 2., 1., 0., 1., 3., 1., 1., 1., 0., 0., 0., 1., 0., 2.,\n",
              "       0., 1., 1., 0., 0., 0., 0., 0., 1., 1., 2., 1., 0., 3., 1., 1., 2.,\n",
              "       0., 0., 0., 0., 2., 0., 1., 0., 0., 1., 3., 0., 2., 1., 0., 1., 1.,\n",
              "       0., 0., 2., 0., 1., 0., 0., 0., 2., 3., 0., 0., 0., 0., 3., 1., 3.,\n",
              "       0., 1., 0., 1., 0., 0., 0., 1., 0., 0., 0., 1., 0., 0., 0., 0., 0.,\n",
              "       0., 0., 1., 0., 0., 0., 0., 0., 0., 0., 0., 0., 1., 0., 0., 0., 0.,\n",
              "       0., 1., 0., 0., 0., 0., 0., 2., 0., 1., 3., 3., 0., 1., 0., 1., 2.,\n",
              "       1., 1., 0., 3., 1., 1., 0., 0., 0., 1., 1., 0., 1., 1., 0., 1., 0.,\n",
              "       0., 0., 0., 1., 1., 0., 0., 1., 1., 0., 0., 0., 0., 0., 1., 0., 2.,\n",
              "       0., 0., 0., 1., 1., 0., 0., 1., 1., 3., 0., 3., 2., 0., 1., 3., 0.,\n",
              "       0., 0., 0., 0., 0., 1., 1., 0., 0., 1., 0., 0., 0., 0., 2., 2., 0.,\n",
              "       1., 0., 1., 0., 0., 0., 0., 0., 1., 0., 0., 0., 0., 0., 2., 0., 0.,\n",
              "       0., 0., 0., 1., 3., 1., 1., 0., 0., 0., 0., 0., 0., 2., 1., 1., 0.,\n",
              "       1., 0., 2., 0., 1., 0., 0., 1., 0., 0., 0., 0., 0., 0., 0., 1., 0.,\n",
              "       1., 0., 1., 0., 2., 0., 3., 1., 2., 0., 0., 3., 0., 2., 0., 0., 1.,\n",
              "       0., 0., 0., 0., 0., 1., 1., 0., 3., 0., 2., 0., 0., 1., 1., 0., 0.,\n",
              "       1., 0., 1., 0., 3., 0., 0., 0., 3., 1., 1., 0., 0., 0., 0., 0., 3.,\n",
              "       0., 0., 0., 0., 0., 1., 1., 0., 1., 1., 1., 0., 1., 0., 0., 0., 1.,\n",
              "       0., 0., 0., 0., 0., 1., 1., 0., 0., 0., 0., 0., 0., 1., 0., 0., 1.,\n",
              "       1., 0., 2., 1., 1., 3., 0., 0., 0., 0., 1., 1., 1., 0., 0., 3., 1.,\n",
              "       0., 0., 0., 0., 0., 1., 1., 1., 0., 2., 0., 0., 0., 2., 1., 0., 0.,\n",
              "       1., 1., 0., 0., 3., 0., 1., 0., 1., 0., 0., 1., 1., 0., 0., 1., 0.,\n",
              "       1., 0., 0., 0., 1., 0., 0., 1., 1., 1., 1., 0., 0., 1., 0., 0., 3.,\n",
              "       0., 1., 0., 0., 1., 0., 0., 1., 1., 0., 0., 0., 2., 1., 1., 0., 0.,\n",
              "       2., 3., 0., 3., 0., 1., 2., 0., 1., 1., 2., 0., 0., 3., 0., 0., 0.,\n",
              "       1., 0., 1., 0., 3., 2., 3., 0., 0., 0., 0., 1., 0., 0., 3., 2., 0.,\n",
              "       1., 0., 0., 0., 0., 1., 0., 0., 0., 1., 2., 0., 1., 0., 0., 0., 0.,\n",
              "       0., 1., 0., 1., 3., 1., 1., 0., 0., 1., 0., 1., 1., 0., 1., 1., 1.,\n",
              "       1., 0., 2., 1., 0., 1., 1., 0., 0., 3., 0., 1., 0., 0., 0., 1., 0.,\n",
              "       0., 1., 1., 1., 1., 0., 1., 0., 1., 3., 3., 0., 1., 1., 2., 0., 1.,\n",
              "       0., 1., 0., 0., 0., 0., 0., 1., 0., 1., 0., 0., 0., 3., 0., 1., 1.,\n",
              "       1., 0., 1., 3., 0., 0., 0., 0., 3., 0., 1., 0., 1., 0., 1., 1., 0.,\n",
              "       1., 0., 0., 1., 1., 0., 1., 1., 0., 1., 0., 0., 0., 0., 2., 0., 0.,\n",
              "       1., 1., 1., 1., 1., 0., 0., 0., 1., 1., 0., 2., 0., 0., 3., 0., 0.,\n",
              "       0., 1., 1., 3., 0., 0., 0., 0., 0., 1., 0., 0., 2., 0., 0., 0., 1.,\n",
              "       1., 3., 0., 0., 0., 1., 1., 0., 3., 0., 1., 0., 0., 3., 1., 0., 0.,\n",
              "       1., 0., 0., 0., 0., 2., 1., 0., 0., 2., 0., 1., 1., 3., 1., 1., 1.,\n",
              "       0., 1., 0., 0., 1., 0., 0., 0., 0., 1., 2., 0., 0., 2., 2., 0., 2.])"
            ]
          },
          "metadata": {},
          "execution_count": 103
        }
      ]
    },
    {
      "cell_type": "code",
      "source": [
        "y_pred.shape"
      ],
      "metadata": {
        "colab": {
          "base_uri": "https://localhost:8080/"
        },
        "id": "Pif90HZOvYLs",
        "outputId": "7b288446-4eb5-4ad6-bc50-6a0b2c8c135a"
      },
      "execution_count": null,
      "outputs": [
        {
          "output_type": "execute_result",
          "data": {
            "text/plain": [
              "(867,)"
            ]
          },
          "metadata": {},
          "execution_count": 104
        }
      ]
    },
    {
      "cell_type": "code",
      "source": [
        "y_pred.reshape(867,1)\n",
        "y_pred=pd.DataFrame(y_pred)\n",
        "y_pred"
      ],
      "metadata": {
        "colab": {
          "base_uri": "https://localhost:8080/",
          "height": 424
        },
        "id": "SMvuBOI43o6i",
        "outputId": "3f5da329-bec5-4358-afb2-a32e57c6a1af"
      },
      "execution_count": null,
      "outputs": [
        {
          "output_type": "execute_result",
          "data": {
            "text/plain": [
              "       0\n",
              "0    0.0\n",
              "1    1.0\n",
              "2    1.0\n",
              "3    0.0\n",
              "4    0.0\n",
              "..   ...\n",
              "862  0.0\n",
              "863  2.0\n",
              "864  2.0\n",
              "865  0.0\n",
              "866  2.0\n",
              "\n",
              "[867 rows x 1 columns]"
            ],
            "text/html": [
              "\n",
              "  <div id=\"df-c7f7c165-fa24-40bc-be71-2246c08b5703\">\n",
              "    <div class=\"colab-df-container\">\n",
              "      <div>\n",
              "<style scoped>\n",
              "    .dataframe tbody tr th:only-of-type {\n",
              "        vertical-align: middle;\n",
              "    }\n",
              "\n",
              "    .dataframe tbody tr th {\n",
              "        vertical-align: top;\n",
              "    }\n",
              "\n",
              "    .dataframe thead th {\n",
              "        text-align: right;\n",
              "    }\n",
              "</style>\n",
              "<table border=\"1\" class=\"dataframe\">\n",
              "  <thead>\n",
              "    <tr style=\"text-align: right;\">\n",
              "      <th></th>\n",
              "      <th>0</th>\n",
              "    </tr>\n",
              "  </thead>\n",
              "  <tbody>\n",
              "    <tr>\n",
              "      <th>0</th>\n",
              "      <td>0.0</td>\n",
              "    </tr>\n",
              "    <tr>\n",
              "      <th>1</th>\n",
              "      <td>1.0</td>\n",
              "    </tr>\n",
              "    <tr>\n",
              "      <th>2</th>\n",
              "      <td>1.0</td>\n",
              "    </tr>\n",
              "    <tr>\n",
              "      <th>3</th>\n",
              "      <td>0.0</td>\n",
              "    </tr>\n",
              "    <tr>\n",
              "      <th>4</th>\n",
              "      <td>0.0</td>\n",
              "    </tr>\n",
              "    <tr>\n",
              "      <th>...</th>\n",
              "      <td>...</td>\n",
              "    </tr>\n",
              "    <tr>\n",
              "      <th>862</th>\n",
              "      <td>0.0</td>\n",
              "    </tr>\n",
              "    <tr>\n",
              "      <th>863</th>\n",
              "      <td>2.0</td>\n",
              "    </tr>\n",
              "    <tr>\n",
              "      <th>864</th>\n",
              "      <td>2.0</td>\n",
              "    </tr>\n",
              "    <tr>\n",
              "      <th>865</th>\n",
              "      <td>0.0</td>\n",
              "    </tr>\n",
              "    <tr>\n",
              "      <th>866</th>\n",
              "      <td>2.0</td>\n",
              "    </tr>\n",
              "  </tbody>\n",
              "</table>\n",
              "<p>867 rows × 1 columns</p>\n",
              "</div>\n",
              "      <button class=\"colab-df-convert\" onclick=\"convertToInteractive('df-c7f7c165-fa24-40bc-be71-2246c08b5703')\"\n",
              "              title=\"Convert this dataframe to an interactive table.\"\n",
              "              style=\"display:none;\">\n",
              "        \n",
              "  <svg xmlns=\"http://www.w3.org/2000/svg\" height=\"24px\"viewBox=\"0 0 24 24\"\n",
              "       width=\"24px\">\n",
              "    <path d=\"M0 0h24v24H0V0z\" fill=\"none\"/>\n",
              "    <path d=\"M18.56 5.44l.94 2.06.94-2.06 2.06-.94-2.06-.94-.94-2.06-.94 2.06-2.06.94zm-11 1L8.5 8.5l.94-2.06 2.06-.94-2.06-.94L8.5 2.5l-.94 2.06-2.06.94zm10 10l.94 2.06.94-2.06 2.06-.94-2.06-.94-.94-2.06-.94 2.06-2.06.94z\"/><path d=\"M17.41 7.96l-1.37-1.37c-.4-.4-.92-.59-1.43-.59-.52 0-1.04.2-1.43.59L10.3 9.45l-7.72 7.72c-.78.78-.78 2.05 0 2.83L4 21.41c.39.39.9.59 1.41.59.51 0 1.02-.2 1.41-.59l7.78-7.78 2.81-2.81c.8-.78.8-2.07 0-2.86zM5.41 20L4 18.59l7.72-7.72 1.47 1.35L5.41 20z\"/>\n",
              "  </svg>\n",
              "      </button>\n",
              "      \n",
              "  <style>\n",
              "    .colab-df-container {\n",
              "      display:flex;\n",
              "      flex-wrap:wrap;\n",
              "      gap: 12px;\n",
              "    }\n",
              "\n",
              "    .colab-df-convert {\n",
              "      background-color: #E8F0FE;\n",
              "      border: none;\n",
              "      border-radius: 50%;\n",
              "      cursor: pointer;\n",
              "      display: none;\n",
              "      fill: #1967D2;\n",
              "      height: 32px;\n",
              "      padding: 0 0 0 0;\n",
              "      width: 32px;\n",
              "    }\n",
              "\n",
              "    .colab-df-convert:hover {\n",
              "      background-color: #E2EBFA;\n",
              "      box-shadow: 0px 1px 2px rgba(60, 64, 67, 0.3), 0px 1px 3px 1px rgba(60, 64, 67, 0.15);\n",
              "      fill: #174EA6;\n",
              "    }\n",
              "\n",
              "    [theme=dark] .colab-df-convert {\n",
              "      background-color: #3B4455;\n",
              "      fill: #D2E3FC;\n",
              "    }\n",
              "\n",
              "    [theme=dark] .colab-df-convert:hover {\n",
              "      background-color: #434B5C;\n",
              "      box-shadow: 0px 1px 3px 1px rgba(0, 0, 0, 0.15);\n",
              "      filter: drop-shadow(0px 1px 2px rgba(0, 0, 0, 0.3));\n",
              "      fill: #FFFFFF;\n",
              "    }\n",
              "  </style>\n",
              "\n",
              "      <script>\n",
              "        const buttonEl =\n",
              "          document.querySelector('#df-c7f7c165-fa24-40bc-be71-2246c08b5703 button.colab-df-convert');\n",
              "        buttonEl.style.display =\n",
              "          google.colab.kernel.accessAllowed ? 'block' : 'none';\n",
              "\n",
              "        async function convertToInteractive(key) {\n",
              "          const element = document.querySelector('#df-c7f7c165-fa24-40bc-be71-2246c08b5703');\n",
              "          const dataTable =\n",
              "            await google.colab.kernel.invokeFunction('convertToInteractive',\n",
              "                                                     [key], {});\n",
              "          if (!dataTable) return;\n",
              "\n",
              "          const docLinkHtml = 'Like what you see? Visit the ' +\n",
              "            '<a target=\"_blank\" href=https://colab.research.google.com/notebooks/data_table.ipynb>data table notebook</a>'\n",
              "            + ' to learn more about interactive tables.';\n",
              "          element.innerHTML = '';\n",
              "          dataTable['output_type'] = 'display_data';\n",
              "          await google.colab.output.renderOutput(dataTable, element);\n",
              "          const docLink = document.createElement('div');\n",
              "          docLink.innerHTML = docLinkHtml;\n",
              "          element.appendChild(docLink);\n",
              "        }\n",
              "      </script>\n",
              "    </div>\n",
              "  </div>\n",
              "  "
            ]
          },
          "metadata": {},
          "execution_count": 105
        }
      ]
    },
    {
      "cell_type": "code",
      "source": [
        "X_test1=pd.DataFrame(X_test1)\n",
        "a=X_test1.loc[:,0]\n",
        "a"
      ],
      "metadata": {
        "colab": {
          "base_uri": "https://localhost:8080/"
        },
        "id": "qBtiPnVJ34Ky",
        "outputId": "7fde61d9-5ecf-443b-9358-008c739a86ab"
      },
      "execution_count": null,
      "outputs": [
        {
          "output_type": "execute_result",
          "data": {
            "text/plain": [
              "0      2439.0\n",
              "1      1213.0\n",
              "2      2659.0\n",
              "3        17.0\n",
              "4      3800.0\n",
              "        ...  \n",
              "862     416.0\n",
              "863    1612.0\n",
              "864    2475.0\n",
              "865     227.0\n",
              "866    2922.0\n",
              "Name: 0, Length: 867, dtype: float64"
            ]
          },
          "metadata": {},
          "execution_count": 106
        }
      ]
    },
    {
      "cell_type": "code",
      "source": [
        "frames=[a,y_pred]\n",
        "result=pd.concat(frames,axis=1,join='inner')\n",
        "display(result)"
      ],
      "metadata": {
        "colab": {
          "base_uri": "https://localhost:8080/",
          "height": 424
        },
        "id": "f905SAIA-Jsd",
        "outputId": "fd8ee6c5-d50c-4d4c-ea49-4adf32cc9f65"
      },
      "execution_count": null,
      "outputs": [
        {
          "output_type": "display_data",
          "data": {
            "text/plain": [
              "          0    0\n",
              "0    2439.0  0.0\n",
              "1    1213.0  1.0\n",
              "2    2659.0  1.0\n",
              "3      17.0  0.0\n",
              "4    3800.0  0.0\n",
              "..      ...  ...\n",
              "862   416.0  0.0\n",
              "863  1612.0  2.0\n",
              "864  2475.0  2.0\n",
              "865   227.0  0.0\n",
              "866  2922.0  2.0\n",
              "\n",
              "[867 rows x 2 columns]"
            ],
            "text/html": [
              "\n",
              "  <div id=\"df-9caed1ec-27bf-471f-8cc0-8971797a2124\">\n",
              "    <div class=\"colab-df-container\">\n",
              "      <div>\n",
              "<style scoped>\n",
              "    .dataframe tbody tr th:only-of-type {\n",
              "        vertical-align: middle;\n",
              "    }\n",
              "\n",
              "    .dataframe tbody tr th {\n",
              "        vertical-align: top;\n",
              "    }\n",
              "\n",
              "    .dataframe thead th {\n",
              "        text-align: right;\n",
              "    }\n",
              "</style>\n",
              "<table border=\"1\" class=\"dataframe\">\n",
              "  <thead>\n",
              "    <tr style=\"text-align: right;\">\n",
              "      <th></th>\n",
              "      <th>0</th>\n",
              "      <th>0</th>\n",
              "    </tr>\n",
              "  </thead>\n",
              "  <tbody>\n",
              "    <tr>\n",
              "      <th>0</th>\n",
              "      <td>2439.0</td>\n",
              "      <td>0.0</td>\n",
              "    </tr>\n",
              "    <tr>\n",
              "      <th>1</th>\n",
              "      <td>1213.0</td>\n",
              "      <td>1.0</td>\n",
              "    </tr>\n",
              "    <tr>\n",
              "      <th>2</th>\n",
              "      <td>2659.0</td>\n",
              "      <td>1.0</td>\n",
              "    </tr>\n",
              "    <tr>\n",
              "      <th>3</th>\n",
              "      <td>17.0</td>\n",
              "      <td>0.0</td>\n",
              "    </tr>\n",
              "    <tr>\n",
              "      <th>4</th>\n",
              "      <td>3800.0</td>\n",
              "      <td>0.0</td>\n",
              "    </tr>\n",
              "    <tr>\n",
              "      <th>...</th>\n",
              "      <td>...</td>\n",
              "      <td>...</td>\n",
              "    </tr>\n",
              "    <tr>\n",
              "      <th>862</th>\n",
              "      <td>416.0</td>\n",
              "      <td>0.0</td>\n",
              "    </tr>\n",
              "    <tr>\n",
              "      <th>863</th>\n",
              "      <td>1612.0</td>\n",
              "      <td>2.0</td>\n",
              "    </tr>\n",
              "    <tr>\n",
              "      <th>864</th>\n",
              "      <td>2475.0</td>\n",
              "      <td>2.0</td>\n",
              "    </tr>\n",
              "    <tr>\n",
              "      <th>865</th>\n",
              "      <td>227.0</td>\n",
              "      <td>0.0</td>\n",
              "    </tr>\n",
              "    <tr>\n",
              "      <th>866</th>\n",
              "      <td>2922.0</td>\n",
              "      <td>2.0</td>\n",
              "    </tr>\n",
              "  </tbody>\n",
              "</table>\n",
              "<p>867 rows × 2 columns</p>\n",
              "</div>\n",
              "      <button class=\"colab-df-convert\" onclick=\"convertToInteractive('df-9caed1ec-27bf-471f-8cc0-8971797a2124')\"\n",
              "              title=\"Convert this dataframe to an interactive table.\"\n",
              "              style=\"display:none;\">\n",
              "        \n",
              "  <svg xmlns=\"http://www.w3.org/2000/svg\" height=\"24px\"viewBox=\"0 0 24 24\"\n",
              "       width=\"24px\">\n",
              "    <path d=\"M0 0h24v24H0V0z\" fill=\"none\"/>\n",
              "    <path d=\"M18.56 5.44l.94 2.06.94-2.06 2.06-.94-2.06-.94-.94-2.06-.94 2.06-2.06.94zm-11 1L8.5 8.5l.94-2.06 2.06-.94-2.06-.94L8.5 2.5l-.94 2.06-2.06.94zm10 10l.94 2.06.94-2.06 2.06-.94-2.06-.94-.94-2.06-.94 2.06-2.06.94z\"/><path d=\"M17.41 7.96l-1.37-1.37c-.4-.4-.92-.59-1.43-.59-.52 0-1.04.2-1.43.59L10.3 9.45l-7.72 7.72c-.78.78-.78 2.05 0 2.83L4 21.41c.39.39.9.59 1.41.59.51 0 1.02-.2 1.41-.59l7.78-7.78 2.81-2.81c.8-.78.8-2.07 0-2.86zM5.41 20L4 18.59l7.72-7.72 1.47 1.35L5.41 20z\"/>\n",
              "  </svg>\n",
              "      </button>\n",
              "      \n",
              "  <style>\n",
              "    .colab-df-container {\n",
              "      display:flex;\n",
              "      flex-wrap:wrap;\n",
              "      gap: 12px;\n",
              "    }\n",
              "\n",
              "    .colab-df-convert {\n",
              "      background-color: #E8F0FE;\n",
              "      border: none;\n",
              "      border-radius: 50%;\n",
              "      cursor: pointer;\n",
              "      display: none;\n",
              "      fill: #1967D2;\n",
              "      height: 32px;\n",
              "      padding: 0 0 0 0;\n",
              "      width: 32px;\n",
              "    }\n",
              "\n",
              "    .colab-df-convert:hover {\n",
              "      background-color: #E2EBFA;\n",
              "      box-shadow: 0px 1px 2px rgba(60, 64, 67, 0.3), 0px 1px 3px 1px rgba(60, 64, 67, 0.15);\n",
              "      fill: #174EA6;\n",
              "    }\n",
              "\n",
              "    [theme=dark] .colab-df-convert {\n",
              "      background-color: #3B4455;\n",
              "      fill: #D2E3FC;\n",
              "    }\n",
              "\n",
              "    [theme=dark] .colab-df-convert:hover {\n",
              "      background-color: #434B5C;\n",
              "      box-shadow: 0px 1px 3px 1px rgba(0, 0, 0, 0.15);\n",
              "      filter: drop-shadow(0px 1px 2px rgba(0, 0, 0, 0.3));\n",
              "      fill: #FFFFFF;\n",
              "    }\n",
              "  </style>\n",
              "\n",
              "      <script>\n",
              "        const buttonEl =\n",
              "          document.querySelector('#df-9caed1ec-27bf-471f-8cc0-8971797a2124 button.colab-df-convert');\n",
              "        buttonEl.style.display =\n",
              "          google.colab.kernel.accessAllowed ? 'block' : 'none';\n",
              "\n",
              "        async function convertToInteractive(key) {\n",
              "          const element = document.querySelector('#df-9caed1ec-27bf-471f-8cc0-8971797a2124');\n",
              "          const dataTable =\n",
              "            await google.colab.kernel.invokeFunction('convertToInteractive',\n",
              "                                                     [key], {});\n",
              "          if (!dataTable) return;\n",
              "\n",
              "          const docLinkHtml = 'Like what you see? Visit the ' +\n",
              "            '<a target=\"_blank\" href=https://colab.research.google.com/notebooks/data_table.ipynb>data table notebook</a>'\n",
              "            + ' to learn more about interactive tables.';\n",
              "          element.innerHTML = '';\n",
              "          dataTable['output_type'] = 'display_data';\n",
              "          await google.colab.output.renderOutput(dataTable, element);\n",
              "          const docLink = document.createElement('div');\n",
              "          docLink.innerHTML = docLinkHtml;\n",
              "          element.appendChild(docLink);\n",
              "        }\n",
              "      </script>\n",
              "    </div>\n",
              "  </div>\n",
              "  "
            ]
          },
          "metadata": {}
        }
      ]
    },
    {
      "cell_type": "code",
      "source": [
        "writer=pd.ExcelWriter('output.xlsx')\n",
        "result.to_excel(writer,index=False)\n",
        "writer.save()"
      ],
      "metadata": {
        "id": "GPIhssWT_WW0"
      },
      "execution_count": null,
      "outputs": []
    },
    {
      "cell_type": "code",
      "source": [
        "read_file=pd.read_excel('output.xlsx')\n",
        "read_file.to_csv(r'prediction.csv',index=None,header=True)"
      ],
      "metadata": {
        "id": "M9OTh8lTKMFG"
      },
      "execution_count": null,
      "outputs": []
    }
  ]
}